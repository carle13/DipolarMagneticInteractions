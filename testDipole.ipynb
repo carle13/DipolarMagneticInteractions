{
 "cells": [
  {
   "cell_type": "code",
   "execution_count": 1,
   "metadata": {},
   "outputs": [],
   "source": [
    "import numpy as np\n",
    "import matplotlib.pyplot as plt\n",
    "import math\n",
    "from ewaldSumsParallelDipoles import ewald"
   ]
  },
  {
   "cell_type": "code",
   "execution_count": 2,
   "metadata": {},
   "outputs": [],
   "source": [
    "#Defining the atomic system\n",
    "\n",
    "alattice = 1. # Defines the lattice spacing of the cell\n",
    "a = np.array ([1,0,0])\n",
    "b = np.array ([0,1,0])\n",
    "c = np.array ([0,0,1])\n",
    "\n",
    "nq = 2\n",
    "q = np.zeros([nq], dtype = 'float')\n",
    "q[0] =  0. # Tells to tag a positive charge to the first q (Cs)\n",
    "q[1] = 0. # Tells to tag a negative charge to the second q (Cl)\n",
    "tau = np.zeros([3,nq], dtype = 'float')\n",
    "tau[:,0] = [0,0,0] # Indicates the coordinates of the (Cs) in the cell/lattice\n",
    "tau[:,1] = [1./2.,1./2.,1./2.] # Indicates the coordinates of the (Cl) in the cell/lattice\n",
    "spins = np.zeros([3, nq], dtype='float')\n",
    "spins[:,0] = [1.0,0,0] # Indicates the spin orientation of the (Cs) in the cell/lattice\n",
    "spins[:,1] = [-1.0,0,0] # Indicates the spin orientation of the (Cl) in the cell/lattice"
   ]
  },
  {
   "cell_type": "code",
   "execution_count": 3,
   "metadata": {},
   "outputs": [
    {
     "data": {
      "text/plain": [
       "(0.0,\n",
       " 0.0,\n",
       " 0.0,\n",
       " -1.1283791670955126,\n",
       " 3.183905267748728e-13,\n",
       " -3.9652473992744396e-29,\n",
       " 0.74965288714563,\n",
       " -0.752252778063675)"
      ]
     },
     "execution_count": 3,
     "metadata": {},
     "output_type": "execute_result"
    }
   ],
   "source": [
    "ewald(alattice, a, b, c, q, tau, spins)"
   ]
  }
 ],
 "metadata": {
  "kernelspec": {
   "display_name": "Python 3",
   "language": "python",
   "name": "python3"
  },
  "language_info": {
   "codemirror_mode": {
    "name": "ipython",
    "version": 3
   },
   "file_extension": ".py",
   "mimetype": "text/x-python",
   "name": "python",
   "nbconvert_exporter": "python",
   "pygments_lexer": "ipython3",
   "version": "3.9.13"
  },
  "orig_nbformat": 4,
  "vscode": {
   "interpreter": {
    "hash": "94b5432cf878da52e11e4e3b5d5691fd71e8a0e0c8df9af64b0e723e0b4185e7"
   }
  }
 },
 "nbformat": 4,
 "nbformat_minor": 2
}
