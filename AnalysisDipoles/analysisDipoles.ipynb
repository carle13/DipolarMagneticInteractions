{
 "cells": [
  {
   "cell_type": "code",
   "execution_count": 1,
   "metadata": {},
   "outputs": [],
   "source": [
    "import numpy as np\n",
    "import matplotlib.pyplot as plt\n",
    "from matplotlib.ticker import MaxNLocator\n",
    "plt.rcParams[\"axes.prop_cycle\"] = plt.cycler(\"color\", plt.cm.Dark2.colors)\n",
    "import bruteForce2D\n",
    "import bruteForce3D\n",
    "import ewaldDipoles\n",
    "import ewaldDipoles2D\n",
    "import math"
   ]
  },
  {
   "cell_type": "code",
   "execution_count": 2,
   "metadata": {},
   "outputs": [],
   "source": [
    "#Defining the atomic system\n",
    "\n",
    "alattice = 1 # Defines the lattice spacing of the cell\n",
    "a = np.array ([1,0,0])*alattice\n",
    "b = np.array ([0,1,0])*alattice\n",
    "c = np.array ([0,0,1])*alattice\n",
    "\n",
    "ns = 2\n",
    "tau = np.zeros([3,ns], dtype = 'float')\n",
    "tau[:,0] = [0,0,0] # Indicates the coordinates of the (Cs) in the cell/lattice\n",
    "tau[:,1] = [1./2.,1./2.,1./2.] # Indicates the coordinates of the (Cl) in the cell/lattice\n",
    "spins = np.zeros([3, ns], dtype='float')\n",
    "sNorm = 1\n",
    "spins[:,0] = [0,0,1.0] # Indicates the spin orientation of the (Cs) in the cell/lattice\n",
    "spins[:,1] = [0,0,-1.0] # Indicates the spin orientation of the (Cl) in the cell/lattice"
   ]
  },
  {
   "cell_type": "code",
   "execution_count": 3,
   "metadata": {},
   "outputs": [
    {
     "name": "stdout",
     "output_type": "stream",
     "text": [
      "[0.  0.5]\n",
      "Sum of the cell: 3.4186003313485587e-16\n",
      "Sum each atom with rest: 1.057349562278668e-15\n"
     ]
    },
    {
     "data": {
      "text/plain": [
       "1.5014387721287305e-15"
      ]
     },
     "execution_count": 3,
     "metadata": {},
     "output_type": "execute_result"
    }
   ],
   "source": [
    "bruteForce3D.sumDipoles(a, b, c, tau, spins, 10, parallel=False)"
   ]
  },
  {
   "cell_type": "code",
   "execution_count": 4,
   "metadata": {},
   "outputs": [
    {
     "name": "stdout",
     "output_type": "stream",
     "text": [
      "Sum of the cell: 0.18279250145088474\n",
      "Sum each atom with rest: 0.0831688843420976\n",
      "(1.344746415839334e-07, 7.148422614446278e-41, 0.2659613857929792, -0.2659615202676218)\n"
     ]
    },
    {
     "data": {
      "text/plain": [
       "-1.0547118733938987e-15"
      ]
     },
     "execution_count": 4,
     "metadata": {},
     "output_type": "execute_result"
    }
   ],
   "source": [
    "ewDip = ewaldDipoles.ewald(a, b, c, tau, spins, 2, 10, 10, parallel=False)\n",
    "print(ewDip) \n",
    "np.sum(ewDip)"
   ]
  },
  {
   "attachments": {},
   "cell_type": "markdown",
   "metadata": {},
   "source": [
    "## 2D magnetic systems"
   ]
  },
  {
   "cell_type": "code",
   "execution_count": 5,
   "metadata": {},
   "outputs": [],
   "source": [
    "#Defining the atomic system\n",
    "\n",
    "aSites = 1.0 #Length between two sites in the unit cell\n",
    "\n",
    "a = np.array ([2.0*np.cos(math.pi/6.0), 0, 0])\n",
    "b = np.array ([-np.cos(math.pi/6.0), (1.0 + np.sin(math.pi/6.0)), 0])\n",
    "c = np.array ([0,0,1000]) #Large distance approximate the case where the 2D material is alone\n",
    "\n",
    "ns = 2\n",
    "tau = np.zeros([3,ns], dtype = 'float')\n",
    "tau[:,0] = [0,0,0]\n",
    "tau[:,1] = 2./3.*a+1./3.*b\n",
    "spins = np.zeros([3, ns], dtype='float')\n",
    "sNorm = 1\n",
    "spins[:,0] = [0,0,1.0]\n",
    "spins[:,1] = [0,0,-1.0]"
   ]
  },
  {
   "cell_type": "code",
   "execution_count": 6,
   "metadata": {},
   "outputs": [
    {
     "data": {
      "text/plain": [
       "0.9999999999999999"
      ]
     },
     "execution_count": 6,
     "metadata": {},
     "output_type": "execute_result"
    }
   ],
   "source": [
    "#Compute norm to verify that the distance is normalized to the lattice spacing\n",
    "np.linalg.norm((2./3.)*a + (1./3.)*b)"
   ]
  },
  {
   "cell_type": "code",
   "execution_count": 7,
   "metadata": {},
   "outputs": [
    {
     "name": "stdout",
     "output_type": "stream",
     "text": [
      "Sum of the cell: -1.0000000000000004\n",
      "Sum each atom with rest: -1.331409374824557\n"
     ]
    },
    {
     "data": {
      "text/plain": [
       "-5.807540752687958"
      ]
     },
     "execution_count": 7,
     "metadata": {},
     "output_type": "execute_result"
    }
   ],
   "source": [
    "2.491*bruteForce2D.sumDipoles(a, b, tau, spins, 10, parallel=False)/aSites**3"
   ]
  },
  {
   "cell_type": "code",
   "execution_count": 8,
   "metadata": {},
   "outputs": [
    {
     "name": "stdout",
     "output_type": "stream",
     "text": [
      "[0.        0.8660254]\n",
      "Sum of the cell: -1.0000000000000004\n",
      "Sum each atom with rest: -1.3314093748300595\n"
     ]
    },
    {
     "data": {
      "text/plain": [
       "-5.807540752701566"
      ]
     },
     "execution_count": 8,
     "metadata": {},
     "output_type": "execute_result"
    }
   ],
   "source": [
    "2.491*bruteForce3D.sumDipoles(a, b, c, tau, spins, 10, parallel=False)/aSites**3"
   ]
  },
  {
   "cell_type": "code",
   "execution_count": 9,
   "metadata": {},
   "outputs": [
    {
     "name": "stdout",
     "output_type": "stream",
     "text": [
      "Sum of the cell: -0.6822703303362129\n",
      "Sum each atom with rest: -1.1651944480178065\n",
      "(1.6149985468917953e-06, -1.458074571962344e-23, -1.8474647783540192, -0.48860251190291987)\n"
     ]
    },
    {
     "data": {
      "text/plain": [
       "-5.819139597068656"
      ]
     },
     "execution_count": 9,
     "metadata": {},
     "output_type": "execute_result"
    }
   ],
   "source": [
    "ewDip = ewaldDipoles.ewald(a, b, c, tau, spins, 3, 20, 20, parallel=False)\n",
    "print(ewDip)\n",
    "2.491*np.sum(ewDip)/aSites**3"
   ]
  },
  {
   "cell_type": "code",
   "execution_count": 10,
   "metadata": {},
   "outputs": [
    {
     "name": "stdout",
     "output_type": "stream",
     "text": [
      "Sum of the cell: -1.3645406606724257\n",
      "Sum each atom with rest: -2.330388896035613\n",
      "(0.0, 0.0, -1.8474647783540192, -0.48860251190291987)\n"
     ]
    },
    {
     "data": {
      "text/plain": [
       "-5.819143620030036"
      ]
     },
     "execution_count": 10,
     "metadata": {},
     "output_type": "execute_result"
    }
   ],
   "source": [
    "ewDip = ewaldDipoles2D.ewald(a, b, c, tau, spins, 3, 20, 20, parallel=False)\n",
    "print(ewDip)\n",
    "2.491*np.sum(ewDip)/aSites**3"
   ]
  },
  {
   "attachments": {},
   "cell_type": "markdown",
   "metadata": {},
   "source": [
    "### Convergence test"
   ]
  },
  {
   "cell_type": "code",
   "execution_count": 11,
   "metadata": {},
   "outputs": [],
   "source": [
    "#Produce plot of real sum vs hmaxT\n",
    "maxT = np.linspace(1, 20, 20, dtype=int)\n",
    "brute2D = []\n",
    "for i in range(len(maxT)):\n",
    "    brute2D.append(2.491*bruteForce2D.sumDipoles(a, b, tau, spins, maxT[i])/aSites**3)"
   ]
  },
  {
   "cell_type": "code",
   "execution_count": 12,
   "metadata": {},
   "outputs": [],
   "source": [
    "#Produce plot of real sum vs hmaxT\n",
    "maxT = np.linspace(1, 20, 20, dtype=int)\n",
    "ewald2D = []\n",
    "for i in range(len(maxT)):\n",
    "    ewald2D.append(2.491*np.sum(ewaldDipoles2D.ewald(a, b, c, tau, spins, 2, 5, maxT[i]))/aSites**3)"
   ]
  },
  {
   "cell_type": "code",
   "execution_count": 19,
   "metadata": {},
   "outputs": [
    {
     "data": {
      "image/png": "[encoded data removed]",
      "text/plain": [
       "<Figure size 432x288 with 1 Axes>"
      ]
     },
     "metadata": {
      "needs_background": "light"
     },
     "output_type": "display_data"
    }
   ],
   "source": [
    "fig = plt.figure()\n",
    "ax = fig.gca()\n",
    "ax.set_title('Energy of 2D magnetic crystal')\n",
    "ax.set_xlabel('hmaxT')\n",
    "ax.set_ylabel('Energy (K $\\AA^{-3}$)')\n",
    "ax.xaxis.set_major_locator(MaxNLocator(integer=True))\n",
    "#ax.set_yscale('log')\n",
    "ax.plot(maxT, brute2D, label='Brute force')\n",
    "ax.plot(maxT, ewald2D, label='Ewald')\n",
    "ax.legend()\n",
    "fig.savefig('Plots/bruteEwald2D.png')"
   ]
  },
  {
   "cell_type": "code",
   "execution_count": 14,
   "metadata": {},
   "outputs": [],
   "source": [
    "#Produce plot of real sum vs hmaxT\n",
    "maxT = np.linspace(1, 20, 20, dtype=int)\n",
    "brute3D = []\n",
    "for i in range(len(maxT)):\n",
    "    brute3D.append(2.491*bruteForce3D.sumDipoles(a, b, c, tau, spins, maxT[i])/aSites**3)"
   ]
  },
  {
   "cell_type": "code",
   "execution_count": 15,
   "metadata": {},
   "outputs": [],
   "source": [
    "#Produce plot of real sum vs hmaxT\n",
    "maxT = np.linspace(1, 20, 20, dtype=int)\n",
    "ewald3D = []\n",
    "for i in range(len(maxT)):\n",
    "    ewald3D.append(2.491*np.sum(ewaldDipoles.ewald(a, b, c, tau, spins, 2, 5, maxT[i]))/aSites**3)"
   ]
  },
  {
   "cell_type": "code",
   "execution_count": 16,
   "metadata": {},
   "outputs": [
    {
     "data": {
      "text/plain": [
       "<matplotlib.legend.Legend at 0x260f75dc880>"
      ]
     },
     "execution_count": 16,
     "metadata": {},
     "output_type": "execute_result"
    },
    {
     "data": {
      "image/png": "[encoded data removed]",
      "text/plain": [
       "<Figure size 432x288 with 1 Axes>"
      ]
     },
     "metadata": {
      "needs_background": "light"
     },
     "output_type": "display_data"
    }
   ],
   "source": [
    "fig = plt.figure()\n",
    "ax = fig.gca()\n",
    "ax.set_title('Energy of 2D magnetic crystal')\n",
    "ax.set_xlabel('hmaxT')\n",
    "ax.set_ylabel('Error in Madelung Constant (%)')\n",
    "ax.xaxis.set_major_locator(MaxNLocator(integer=True))\n",
    "#ax.set_yscale('log')\n",
    "ax.plot(maxT, brute3D, label='Brute force')\n",
    "ax.plot(maxT, ewald3D, label='Ewald')\n",
    "ax.legend()\n",
    "#fig.savefig('Plots/brute2D.png')"
   ]
  }
 ],
 "metadata": {
  "kernelspec": {
   "display_name": "Python 3",
   "language": "python",
   "name": "python3"
  },
  "language_info": {
   "codemirror_mode": {
    "name": "ipython",
    "version": 3
   },
   "file_extension": ".py",
   "mimetype": "text/x-python",
   "name": "python",
   "nbconvert_exporter": "python",
   "pygments_lexer": "ipython3",
   "version": "3.9.13"
  },
  "orig_nbformat": 4,
  "vscode": {
   "interpreter": {
    "hash": "94b5432cf878da52e11e4e3b5d5691fd71e8a0e0c8df9af64b0e723e0b4185e7"
   }
  }
 },
 "nbformat": 4,
 "nbformat_minor": 2
}
