{
 "cells": [
  {
   "attachments": {},
   "cell_type": "markdown",
   "metadata": {},
   "source": [
    "# Analysis of computation time"
   ]
  },
  {
   "cell_type": "code",
   "execution_count": 24,
   "metadata": {},
   "outputs": [],
   "source": [
    "from timeit import Timer\n",
    "import time\n",
    "import numpy as np\n",
    "import matplotlib.pyplot as plt\n",
    "from matplotlib.ticker import MaxNLocator\n",
    "plt.rcParams[\"axes.prop_cycle\"] = plt.cycler(\"color\", plt.cm.Dark2.colors)\n",
    "import bruteCharges\n",
    "from ewaldCharges import ewald"
   ]
  },
  {
   "cell_type": "code",
   "execution_count": 3,
   "metadata": {},
   "outputs": [],
   "source": [
    "#Defining the atomic system for CsCl\n",
    "\n",
    "alattice = 4.119 # Defines the lattice spacing of the cell\n",
    "a = np.array ([1,0,0])\n",
    "b = np.array ([0,1,0])\n",
    "c = np.array ([0,0,1])\n",
    "\n",
    "nq = 2\n",
    "q = np.zeros([nq], dtype = 'float')\n",
    "q[0] =  1. # Tells to tag a positive charge to the first q (Cs)\n",
    "q[1] = -1. # Tells to tag a negative charge to the second q (Cl)\n",
    "tau = np.zeros([3,nq], dtype = 'float')\n",
    "tau[:,0] = [0,0,0] # Indicates the coordinates of the (Cs) in the cell/lattice\n",
    "tau[:,1] = [1./2.,1./2.,1./2.] # Indicates the coordinates of the (Cl) in the cell/lattice"
   ]
  },
  {
   "cell_type": "code",
   "execution_count": 17,
   "metadata": {},
   "outputs": [],
   "source": [
    "def measureTime(hmaxT, parallel, nTimes):\n",
    "    # get the start time\n",
    "    st = time.time()\n",
    "\n",
    "    for i in range(nTimes):\n",
    "        bruteCharges.sumCharges(a, b, c, q, tau, hmaxT, parallel)\n",
    "\n",
    "    # get the end time\n",
    "    et = time.time()\n",
    "\n",
    "    # get execution time\n",
    "    res = (et - st) / nTimes\n",
    "    print('CPU Execution time:', res, 'seconds')\n",
    "    return res"
   ]
  },
  {
   "cell_type": "code",
   "execution_count": 26,
   "metadata": {},
   "outputs": [
    {
     "name": "stdout",
     "output_type": "stream",
     "text": [
      "CPU Execution time: 1.3922541618347168 seconds\n",
      "CPU Execution time: 1.4203813791275024 seconds\n",
      "CPU Execution time: 1.4606857776641846 seconds\n",
      "CPU Execution time: 1.44668390750885 seconds\n",
      "CPU Execution time: 1.4801910877227784 seconds\n",
      "CPU Execution time: 1.5188998937606812 seconds\n",
      "CPU Execution time: 1.5100146293640138 seconds\n",
      "CPU Execution time: 1.5621784210205079 seconds\n",
      "CPU Execution time: 1.6004185438156129 seconds\n",
      "CPU Execution time: 1.611328363418579 seconds\n",
      "CPU Execution time: 1.6760197877883911 seconds\n",
      "CPU Execution time: 1.744877290725708 seconds\n",
      "CPU Execution time: 1.8410221576690673 seconds\n",
      "CPU Execution time: 1.948253297805786 seconds\n",
      "CPU Execution time: 2.0280213356018066 seconds\n",
      "CPU Execution time: 2.175979161262512 seconds\n",
      "CPU Execution time: 2.1780797243118286 seconds\n",
      "CPU Execution time: 2.3005136251449585 seconds\n",
      "CPU Execution time: 2.3144596338272097 seconds\n",
      "CPU Execution time: 2.4561624050140383 seconds\n"
     ]
    }
   ],
   "source": [
    "#Measure time of brute force in parallel mode\n",
    "lims = np.linspace(1, 20, 20, dtype=int)\n",
    "n = 10\n",
    "timesParallel = []\n",
    "for i in lims:\n",
    "    timesParallel.append(measureTime(i, True, n))"
   ]
  },
  {
   "cell_type": "code",
   "execution_count": 19,
   "metadata": {},
   "outputs": [
    {
     "name": "stdout",
     "output_type": "stream",
     "text": [
      "CPU Execution time: 0.0035999536514282225 seconds\n",
      "CPU Execution time: 0.007898998260498048 seconds\n",
      "CPU Execution time: 0.021900081634521486 seconds\n",
      "CPU Execution time: 0.04430060386657715 seconds\n",
      "CPU Execution time: 0.08020093441009521 seconds\n",
      "CPU Execution time: 0.13692965507507324 seconds\n",
      "CPU Execution time: 0.20440189838409423 seconds\n",
      "CPU Execution time: 0.2961954355239868 seconds\n",
      "CPU Execution time: 0.4124067068099976 seconds\n",
      "CPU Execution time: 0.6376596689224243 seconds\n",
      "CPU Execution time: 0.8489926338195801 seconds\n",
      "CPU Execution time: 1.0856531381607055 seconds\n",
      "CPU Execution time: 1.3903501510620118 seconds\n",
      "CPU Execution time: 1.674707865715027 seconds\n",
      "CPU Execution time: 2.064998960494995 seconds\n",
      "CPU Execution time: 2.519930696487427 seconds\n",
      "CPU Execution time: 2.994973921775818 seconds\n",
      "CPU Execution time: 3.4698962211608886 seconds\n",
      "CPU Execution time: 4.115749812126159 seconds\n",
      "CPU Execution time: 4.734872722625733 seconds\n"
     ]
    }
   ],
   "source": [
    "#Measure time of brute force in serial mode\n",
    "lims = np.linspace(1, 20, 20, dtype=int)\n",
    "n = 10\n",
    "timesSerial = []\n",
    "for i in lims:\n",
    "    timesSerial.append(measureTime(i, False, n))"
   ]
  },
  {
   "cell_type": "code",
   "execution_count": 30,
   "metadata": {},
   "outputs": [
    {
     "data": {
      "image/png": "[encoded data removed]",
      "text/plain": [
       "<Figure size 432x288 with 1 Axes>"
      ]
     },
     "metadata": {
      "needs_background": "light"
     },
     "output_type": "display_data"
    }
   ],
   "source": [
    "fig = plt.figure()\n",
    "ax = fig.gca()\n",
    "ax.set_title('Computation time (Brute force)')\n",
    "ax.set_xlabel('hmaxT')\n",
    "ax.set_ylabel('Time (s)')\n",
    "ax.xaxis.set_major_locator(MaxNLocator(integer=True))\n",
    "#ax.set_yscale('log')\n",
    "ax.plot(lims, timesParallel, label='Parallel')\n",
    "ax.plot(lims, timesSerial, label='Serial')\n",
    "ax.legend()\n",
    "fig.savefig('Plots/timeParallel.png')"
   ]
  },
  {
   "attachments": {},
   "cell_type": "markdown",
   "metadata": {},
   "source": [
    "## Comparison Ewald and Brute force"
   ]
  },
  {
   "cell_type": "code",
   "execution_count": 22,
   "metadata": {},
   "outputs": [],
   "source": [
    "def measureTimeEwald(hmaxT, parallel, nTimes):\n",
    "    # get the start time\n",
    "    st = time.time()\n",
    "\n",
    "    for i in range(nTimes):\n",
    "        ewald(a, b, c, q, tau, 2.0, 1, hmaxT, parallel)\n",
    "\n",
    "    # get the end time\n",
    "    et = time.time()\n",
    "\n",
    "    # get execution time\n",
    "    res = (et - st) / nTimes\n",
    "    print('CPU Execution time:', res, 'seconds')\n",
    "    return res"
   ]
  },
  {
   "cell_type": "code",
   "execution_count": 27,
   "metadata": {},
   "outputs": [
    {
     "name": "stdout",
     "output_type": "stream",
     "text": [
      "CPU Execution time: 2.8476301193237306 seconds\n",
      "CPU Execution time: 2.8300285816192625 seconds\n",
      "CPU Execution time: 2.8331295013427735 seconds\n",
      "CPU Execution time: 2.8321297407150268 seconds\n",
      "CPU Execution time: 2.849829387664795 seconds\n",
      "CPU Execution time: 2.9048303365707397 seconds\n",
      "CPU Execution time: 2.9141302347183227 seconds\n",
      "CPU Execution time: 2.962131142616272 seconds\n",
      "CPU Execution time: 3.03593111038208 seconds\n",
      "CPU Execution time: 3.0213316440582276 seconds\n",
      "CPU Execution time: 3.1351324796676634 seconds\n",
      "CPU Execution time: 3.1554327487945555 seconds\n",
      "CPU Execution time: 3.2477337598800657 seconds\n",
      "CPU Execution time: 3.3864352464675904 seconds\n",
      "CPU Execution time: 3.4174360752105715 seconds\n",
      "CPU Execution time: 3.666918706893921 seconds\n",
      "CPU Execution time: 3.7360469818115236 seconds\n",
      "CPU Execution time: 3.605536675453186 seconds\n",
      "CPU Execution time: 3.6554383277893066 seconds\n",
      "CPU Execution time: 3.712438201904297 seconds\n"
     ]
    }
   ],
   "source": [
    "#Measure time of ewald in parallel\n",
    "lims = np.linspace(1, 20, 20, dtype=int)\n",
    "n = 10\n",
    "timesParallelEwald = []\n",
    "for i in lims:\n",
    "    timesParallelEwald.append(measureTimeEwald(i, True, n))"
   ]
  },
  {
   "cell_type": "code",
   "execution_count": 28,
   "metadata": {},
   "outputs": [
    {
     "data": {
      "image/png": "[encoded data removed]",
      "text/plain": [
       "<Figure size 432x288 with 1 Axes>"
      ]
     },
     "metadata": {
      "needs_background": "light"
     },
     "output_type": "display_data"
    }
   ],
   "source": [
    "fig = plt.figure()\n",
    "ax = fig.gca()\n",
    "ax.set_title('Computation time (Brute force vs Ewald)')\n",
    "ax.set_xlabel('hmaxT')\n",
    "ax.set_ylabel('Time (s)')\n",
    "ax.xaxis.set_major_locator(MaxNLocator(integer=True))\n",
    "#ax.set_yscale('log')\n",
    "ax.plot(lims, timesParallel, label='Brute force')\n",
    "ax.plot(lims, timesParallelEwald, label='Ewald')\n",
    "ax.legend()\n",
    "fig.savefig('Plots/timeEwald.png')"
   ]
  },
  {
   "cell_type": "code",
   "execution_count": 29,
   "metadata": {},
   "outputs": [
    {
     "name": "stdout",
     "output_type": "stream",
     "text": [
      "CPU Execution time: 0.0045013904571533205 seconds\n",
      "CPU Execution time: 0.0120988130569458 seconds\n",
      "CPU Execution time: 0.028700089454650878 seconds\n",
      "CPU Execution time: 0.06440057754516601 seconds\n",
      "CPU Execution time: 0.10660438537597657 seconds\n",
      "CPU Execution time: 0.171799898147583 seconds\n",
      "CPU Execution time: 0.262902045249939 seconds\n",
      "CPU Execution time: 0.3793076276779175 seconds\n",
      "CPU Execution time: 0.5285014867782593 seconds\n",
      "CPU Execution time: 0.7142110347747803 seconds\n",
      "CPU Execution time: 0.940806245803833 seconds\n",
      "CPU Execution time: 1.2000154733657837 seconds\n",
      "CPU Execution time: 1.5161166429519652 seconds\n",
      "CPU Execution time: 1.8754683494567872 seconds\n",
      "CPU Execution time: 2.2881213426589966 seconds\n",
      "CPU Execution time: 2.773028516769409 seconds\n",
      "CPU Execution time: 3.323336434364319 seconds\n",
      "CPU Execution time: 3.9071395635604858 seconds\n",
      "CPU Execution time: 4.547851419448852 seconds\n",
      "CPU Execution time: 5.252151346206665 seconds\n"
     ]
    }
   ],
   "source": [
    "#Measure time of ewald in serial\n",
    "lims = np.linspace(1, 20, 20, dtype=int)\n",
    "n = 10\n",
    "timesSerialEwald = []\n",
    "for i in lims:\n",
    "    timesSerialEwald.append(measureTimeEwald(i, False, n))"
   ]
  },
  {
   "cell_type": "code",
   "execution_count": 34,
   "metadata": {},
   "outputs": [
    {
     "data": {
      "image/png": "[encoded data removed]",
      "text/plain": [
       "<Figure size 432x288 with 1 Axes>"
      ]
     },
     "metadata": {
      "needs_background": "light"
     },
     "output_type": "display_data"
    }
   ],
   "source": [
    "fig = plt.figure()\n",
    "ax = fig.gca()\n",
    "ax.set_title('Computation time serial mode (Brute force vs Ewald)')\n",
    "ax.set_xlabel('hmaxT')\n",
    "ax.set_ylabel('Time (s)')\n",
    "ax.xaxis.set_major_locator(MaxNLocator(integer=True))\n",
    "#ax.set_yscale('log')\n",
    "ax.plot(lims, timesSerial, label='Brute force')\n",
    "ax.plot(lims, timesSerialEwald, label='Ewald')\n",
    "ax.legend()\n",
    "fig.savefig('Plots/timeEwaldSerial.png')"
   ]
  }
 ],
 "metadata": {
  "kernelspec": {
   "display_name": "Python 3",
   "language": "python",
   "name": "python3"
  },
  "language_info": {
   "codemirror_mode": {
    "name": "ipython",
    "version": 3
   },
   "file_extension": ".py",
   "mimetype": "text/x-python",
   "name": "python",
   "nbconvert_exporter": "python",
   "pygments_lexer": "ipython3",
   "version": "3.9.13"
  },
  "orig_nbformat": 4,
  "vscode": {
   "interpreter": {
    "hash": "94b5432cf878da52e11e4e3b5d5691fd71e8a0e0c8df9af64b0e723e0b4185e7"
   }
  }
 },
 "nbformat": 4,
 "nbformat_minor": 2
}
