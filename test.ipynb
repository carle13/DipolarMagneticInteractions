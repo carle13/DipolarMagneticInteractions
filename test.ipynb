{
 "cells": [
  {
   "cell_type": "code",
   "execution_count": 1,
   "metadata": {},
   "outputs": [],
   "source": [
    "import numpy as np\n",
    "import matplotlib.pyplot as plt\n",
    "import math\n",
    "from ewaldSums import ewald"
   ]
  },
  {
   "attachments": {},
   "cell_type": "markdown",
   "metadata": {},
   "source": [
    "### Program NaCl lattice"
   ]
  },
  {
   "cell_type": "code",
   "execution_count": 2,
   "metadata": {},
   "outputs": [],
   "source": [
    "#Defining the atomic system\n",
    "\n",
    "alattice = 1. # Defines the lattice spacing of the cell\n",
    "a = np.array ([1,0,0])\n",
    "b = np.array ([0,1,0])\n",
    "c = np.array ([0,0,1])\n",
    "\n",
    "nq = 4\n",
    "q = np.zeros([nq], dtype = 'float')\n",
    "q[0] =  1. # Tells to tag a positive charge to the first q (Cs)\n",
    "q[1] = -1. # Tells to tag a negative charge to the second q (Cl)\n",
    "q[2] = -1.  # Tells to tag a negative charge to the second q (Cl)\n",
    "q[3] = -1.  # Tells to tag a negative charge to the second q (Cl)\n",
    "tau = np.zeros([3,nq], dtype = 'float')\n",
    "tau[:,0] = [0,0,0] # Indicates the coordinates of the (Cs) in the cell/lattice\n",
    "tau[:,1] = [0,1./2.,1./2.] # Indicates the coordinates of the (Cl) in the cell/lattice\n",
    "tau[:,2] = [1./2.,0,1./2.] # Indicates the coordinates of the (Cl) in the cell/lattice\n",
    "tau[:,3] = [1./2.,1./2.,0] # Indicates the coordinates of the (Cl) in the cell/lattice"
   ]
  },
  {
   "cell_type": "code",
   "execution_count": 6,
   "metadata": {},
   "outputs": [
    {
     "name": "stdout",
     "output_type": "stream",
     "text": [
      "Reciprocal space sum Real part : 0.00019758\n",
      "Reciprocal space sum Img  part : 0.00000000\n",
      "Real space sum                 : -6.24473660\n",
      "Constant term                  : -1.12837917\n",
      "\n",
      "Madelung constant Vohra  : -7.37291819\n",
      "Madelung constant Kittel : -6.38513445\n"
     ]
    },
    {
     "data": {
      "text/plain": [
       "(0.00019757823677565503,\n",
       " 3.3157318771888115e-37,\n",
       " -6.2447366031682865,\n",
       " -1.1283791670955126)"
      ]
     },
     "execution_count": 6,
     "metadata": {},
     "output_type": "execute_result"
    }
   ],
   "source": [
    "ewald(alattice, a, b, c, q, tau, 4, 21, 21)"
   ]
  }
 ],
 "metadata": {
  "kernelspec": {
   "display_name": "Python 3",
   "language": "python",
   "name": "python3"
  },
  "language_info": {
   "codemirror_mode": {
    "name": "ipython",
    "version": 3
   },
   "file_extension": ".py",
   "mimetype": "text/x-python",
   "name": "python",
   "nbconvert_exporter": "python",
   "pygments_lexer": "ipython3",
   "version": "3.9.13"
  },
  "orig_nbformat": 4,
  "vscode": {
   "interpreter": {
    "hash": "94b5432cf878da52e11e4e3b5d5691fd71e8a0e0c8df9af64b0e723e0b4185e7"
   }
  }
 },
 "nbformat": 4,
 "nbformat_minor": 2
}
