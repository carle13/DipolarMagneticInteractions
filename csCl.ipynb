{
 "cells": [
  {
   "cell_type": "code",
   "execution_count": 1,
   "metadata": {},
   "outputs": [],
   "source": [
    "import numpy as np\n",
    "import matplotlib.pyplot as plt\n",
    "from ewaldSumsParallel import ewald"
   ]
  },
  {
   "attachments": {},
   "cell_type": "markdown",
   "metadata": {},
   "source": [
    "## Program CsCl lattice"
   ]
  },
  {
   "cell_type": "code",
   "execution_count": 2,
   "metadata": {},
   "outputs": [],
   "source": [
    "#Defining the atomic system\n",
    "\n",
    "alattice = 1. # Defines the lattice spacing of the cell\n",
    "a = np.array ([1,0,0])\n",
    "b = np.array ([0,1,0])\n",
    "c = np.array ([0,0,1])\n",
    "\n",
    "nq = 2\n",
    "q = np.zeros([nq], dtype = 'float')\n",
    "q[0] =  1. # Tells to tag a positive charge to the first q (Cs)\n",
    "q[1] = -1. # Tells to tag a negative charge to the second q (Cl)\n",
    "tau = np.zeros([3,nq], dtype = 'float')\n",
    "tau[:,0] = [0,0,0] # Indicates the coordinates of the (Cs) in the cell/lattice\n",
    "tau[:,1] = [1./2.,1./2.,1./2.] # Indicates the coordinates of the (Cl) in the cell/lattice"
   ]
  },
  {
   "cell_type": "code",
   "execution_count": 3,
   "metadata": {},
   "outputs": [
    {
     "name": "stdout",
     "output_type": "stream",
     "text": [
      "Reciprocal space sum Real part : 0.00019757\n",
      "Reciprocal space sum Img  part : -0.00000000\n",
      "Real space sum                 : -0.90717991\n",
      "Constant term                  : -1.12837917\n",
      "\n",
      "Madelung constant Vohra  : -2.03536151\n",
      "Madelung constant Kittel : -1.76267477\n"
     ]
    },
    {
     "data": {
      "text/plain": [
       "(0.0001975680183980939,\n",
       " -3.1397194458752797e-38,\n",
       " -0.9071799103754815,\n",
       " -1.1283791670955126)"
      ]
     },
     "execution_count": 3,
     "metadata": {},
     "output_type": "execute_result"
    }
   ],
   "source": [
    "#test time\n",
    "ewald(alattice, a, b, c, q, tau, 4, 10, 10)"
   ]
  },
  {
   "cell_type": "code",
   "execution_count": 4,
   "metadata": {},
   "outputs": [
    {
     "name": "stdout",
     "output_type": "stream",
     "text": [
      "Reciprocal space sum Real part : 0.00019757\n",
      "Reciprocal space sum Img  part : 0.00000000\n",
      "Real space sum                 : -0.90717991\n",
      "Constant term                  : -1.12837917\n",
      "\n",
      "Madelung constant Vohra  : -2.03536151\n",
      "Madelung constant Kittel : -1.76267477\n"
     ]
    },
    {
     "data": {
      "text/plain": [
       "(0.0001975680183980939, 0.0, -0.9071799103754818, -1.1283791670955126)"
      ]
     },
     "execution_count": 4,
     "metadata": {},
     "output_type": "execute_result"
    }
   ],
   "source": [
    "#Getting sums for different limits and eta values\n",
    "maxG = np.arange(1, 100, 10)\n",
    "maxT = np.arange(1, 100, 10)\n",
    "etas = np.arange(1, 10, 0.5)"
   ]
  }
 ],
 "metadata": {
  "kernelspec": {
   "display_name": "Python 3",
   "language": "python",
   "name": "python3"
  },
  "language_info": {
   "codemirror_mode": {
    "name": "ipython",
    "version": 3
   },
   "file_extension": ".py",
   "mimetype": "text/x-python",
   "name": "python",
   "nbconvert_exporter": "python",
   "pygments_lexer": "ipython3",
   "version": "3.9.13"
  },
  "orig_nbformat": 4,
  "vscode": {
   "interpreter": {
    "hash": "94b5432cf878da52e11e4e3b5d5691fd71e8a0e0c8df9af64b0e723e0b4185e7"
   }
  }
 },
 "nbformat": 4,
 "nbformat_minor": 2
}
