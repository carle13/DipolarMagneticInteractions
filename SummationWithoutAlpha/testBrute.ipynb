{
 "cells": [
  {
   "cell_type": "code",
   "execution_count": 1,
   "metadata": {},
   "outputs": [],
   "source": [
    "import numpy as np\n",
    "import matplotlib.pyplot as plt\n",
    "import testAndres\n",
    "import bruteChargesParallel\n",
    "import ewaldChargesParallel\n",
    "import testEwald"
   ]
  },
  {
   "cell_type": "code",
   "execution_count": 2,
   "metadata": {},
   "outputs": [],
   "source": [
    "#Defining the atomic system\n",
    "\n",
    "alattice = 1. # Defines the lattice spacing of the cell\n",
    "a = np.array ([1,0,0])\n",
    "b = np.array ([0,1,0])\n",
    "c = np.array ([0,0,1])\n",
    "\n",
    "nqNaCl = 8\n",
    "qNaCl = np.zeros([nqNaCl], dtype = 'float')\n",
    "qNaCl[0] =  1. \n",
    "qNaCl[1] = -1. \n",
    "qNaCl[2] = 1.\n",
    "qNaCl[3] = -1.\n",
    "qNaCl[4] =  1. \n",
    "qNaCl[5] = -1. \n",
    "qNaCl[6] =  1. \n",
    "qNaCl[7] = -1. \n",
    "tauNaCl = np.zeros([3,nqNaCl], dtype = 'float')\n",
    "tauNaCl[:,0] = [1./2.,1./2.,1./2.]\n",
    "tauNaCl[:,1] = [0,0,0]\n",
    "tauNaCl[:,2] = [0,0,1./2.]\n",
    "tauNaCl[:,3] = [1./2.,1./2.,0]\n",
    "tauNaCl[:,4] = [0,1./2.,0]\n",
    "tauNaCl[:,5] = [1./2.,0,1./2.]\n",
    "tauNaCl[:,6] = [1./2.,0,0]\n",
    "tauNaCl[:,7] = [0,1./2.,1./2.]"
   ]
  },
  {
   "cell_type": "code",
   "execution_count": 3,
   "metadata": {},
   "outputs": [
    {
     "data": {
      "text/plain": [
       "-3.4951237125719747"
      ]
     },
     "execution_count": 3,
     "metadata": {},
     "output_type": "execute_result"
    }
   ],
   "source": [
    "testAndres.sumCharges(alattice, a, b, c, qNaCl, tauNaCl, 5, parallel=False)"
   ]
  },
  {
   "cell_type": "code",
   "execution_count": 4,
   "metadata": {},
   "outputs": [
    {
     "name": "stdout",
     "output_type": "stream",
     "text": [
      "Sum of the cell: -2.9120598512599667\n",
      "Sum each atom with rest: -0.5830689256921797\n"
     ]
    },
    {
     "data": {
      "text/plain": [
       "-3.4951287769514527"
      ]
     },
     "execution_count": 4,
     "metadata": {},
     "output_type": "execute_result"
    }
   ],
   "source": [
    "bruteChargesParallel.sumCharges(alattice, a, b, c, qNaCl, tauNaCl, 10, parallel=False)"
   ]
  },
  {
   "cell_type": "code",
   "execution_count": 5,
   "metadata": {},
   "outputs": [
    {
     "data": {
      "text/plain": [
       "-3.4951291892664003"
      ]
     },
     "execution_count": 5,
     "metadata": {},
     "output_type": "execute_result"
    }
   ],
   "source": [
    "np.sum(ewaldChargesParallel.ewald(alattice, a, b, c, qNaCl, tauNaCl, 4, 5, 5, parallel=False))"
   ]
  },
  {
   "cell_type": "code",
   "execution_count": 6,
   "metadata": {},
   "outputs": [
    {
     "data": {
      "text/plain": [
       "-3.4951291892666827"
      ]
     },
     "execution_count": 6,
     "metadata": {},
     "output_type": "execute_result"
    }
   ],
   "source": [
    "np.sum(testEwald.ewald(alattice, a, b, c, qNaCl, tauNaCl, 4, 5, 5, parallel=False))"
   ]
  },
  {
   "cell_type": "code",
   "execution_count": 7,
   "metadata": {},
   "outputs": [],
   "source": [
    "#Defining the atomic system\n",
    "\n",
    "alattice = 1. # Defines the lattice spacing of the cell\n",
    "a = np.array ([1,0,0])\n",
    "b = np.array ([0,1,0])\n",
    "c = np.array ([0,0,1])\n",
    "\n",
    "nq = 2\n",
    "q = np.zeros([nq], dtype = 'float')\n",
    "q[0] =  1. # Tells to tag a positive charge to the first q (Cs)\n",
    "q[1] = -1. # Tells to tag a negative charge to the second q (Cl)\n",
    "tau = np.zeros([3,nq], dtype = 'float')\n",
    "tau[:,0] = [0,0,0] # Indicates the coordinates of the (Cs) in the cell/lattice\n",
    "tau[:,1] = [1./2.,1./2.,1./2.] # Indicates the coordinates of the (Cl) in the cell/lattice"
   ]
  },
  {
   "cell_type": "code",
   "execution_count": 8,
   "metadata": {},
   "outputs": [
    {
     "data": {
      "text/plain": [
       "-0.46543775079988575"
      ]
     },
     "execution_count": 8,
     "metadata": {},
     "output_type": "execute_result"
    }
   ],
   "source": [
    "testAndres.sumCharges(alattice, a, b, c, q, tau, 10,  parallel=False)"
   ]
  },
  {
   "cell_type": "code",
   "execution_count": 9,
   "metadata": {},
   "outputs": [
    {
     "name": "stdout",
     "output_type": "stream",
     "text": [
      "Sum of the cell: -1.1547005383792517\n",
      "Sum each atom with rest: 0.6892627875792201\n"
     ]
    },
    {
     "data": {
      "text/plain": [
       "-0.465437750799777"
      ]
     },
     "execution_count": 9,
     "metadata": {},
     "output_type": "execute_result"
    }
   ],
   "source": [
    "bruteChargesParallel.sumCharges(alattice, a, b, c, q, tau, 10, parallel=False)"
   ]
  },
  {
   "cell_type": "code",
   "execution_count": 10,
   "metadata": {},
   "outputs": [
    {
     "data": {
      "text/plain": [
       "-2.0353613980977268"
      ]
     },
     "execution_count": 10,
     "metadata": {},
     "output_type": "execute_result"
    }
   ],
   "source": [
    "np.sum(ewaldChargesParallel.ewald(alattice, a, b, c, q, tau, 2, 5, 5, parallel=False))"
   ]
  },
  {
   "cell_type": "code",
   "execution_count": 11,
   "metadata": {},
   "outputs": [
    {
     "data": {
      "text/plain": [
       "-2.0353613980977316"
      ]
     },
     "execution_count": 11,
     "metadata": {},
     "output_type": "execute_result"
    }
   ],
   "source": [
    "np.sum(testEwald.ewald(alattice, a, b, c, q, tau, 2, 5, 5, parallel=False))"
   ]
  }
 ],
 "metadata": {
  "kernelspec": {
   "display_name": "Python 3",
   "language": "python",
   "name": "python3"
  },
  "language_info": {
   "codemirror_mode": {
    "name": "ipython",
    "version": 3
   },
   "file_extension": ".py",
   "mimetype": "text/x-python",
   "name": "python",
   "nbconvert_exporter": "python",
   "pygments_lexer": "ipython3",
   "version": "3.9.13"
  },
  "orig_nbformat": 4,
  "vscode": {
   "interpreter": {
    "hash": "94b5432cf878da52e11e4e3b5d5691fd71e8a0e0c8df9af64b0e723e0b4185e7"
   }
  }
 },
 "nbformat": 4,
 "nbformat_minor": 2
}
