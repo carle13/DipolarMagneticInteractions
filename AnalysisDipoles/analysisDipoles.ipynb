{
 "cells": [
  {
   "cell_type": "code",
   "execution_count": 1,
   "metadata": {},
   "outputs": [],
   "source": [
    "import numpy as np\n",
    "import matplotlib.pyplot as plt\n",
    "from bruteForce3D import sumDipoles\n",
    "from ewaldDipoles import ewald"
   ]
  },
  {
   "cell_type": "code",
   "execution_count": 2,
   "metadata": {},
   "outputs": [],
   "source": [
    "#Defining the atomic system\n",
    "\n",
    "alattice = 1 # Defines the lattice spacing of the cell\n",
    "a = np.array ([1,0,0])*alattice\n",
    "b = np.array ([0,1,0])*alattice\n",
    "c = np.array ([0,0,1])*alattice\n",
    "\n",
    "ns = 2\n",
    "tau = np.zeros([3,ns], dtype = 'float')\n",
    "tau[:,0] = [0,0,0] # Indicates the coordinates of the (Cs) in the cell/lattice\n",
    "tau[:,1] = [1./2.,1./2.,1./2.] # Indicates the coordinates of the (Cl) in the cell/lattice\n",
    "spins = np.zeros([3, ns], dtype='float')\n",
    "sNorm = 1\n",
    "spins[:,0] = [0,0,1.0] # Indicates the spin orientation of the (Cs) in the cell/lattice\n",
    "spins[:,1] = [0,0,1.0] # Indicates the spin orientation of the (Cl) in the cell/lattice"
   ]
  },
  {
   "cell_type": "code",
   "execution_count": 3,
   "metadata": {},
   "outputs": [
    {
     "name": "stdout",
     "output_type": "stream",
     "text": [
      "[0.  0.5]\n",
      "Sum of the cell: -3.4186003313485587e-16\n",
      "Sum each atom with rest: 4.751050423120754e-14\n"
     ]
    },
    {
     "data": {
      "text/plain": [
       "4.6622325811507416e-14"
      ]
     },
     "execution_count": 3,
     "metadata": {},
     "output_type": "execute_result"
    }
   ],
   "source": [
    "sumDipoles(a, b, c, tau, spins, 10, parallel=False)"
   ]
  },
  {
   "cell_type": "code",
   "execution_count": 4,
   "metadata": {},
   "outputs": [
    {
     "name": "stdout",
     "output_type": "stream",
     "text": [
      "Volume is: 1\n"
     ]
    },
    {
     "data": {
      "text/plain": [
       "(2.689492835276457e-07,\n",
       " -2.4364725605595545e-36,\n",
       " -7.625327900458368,\n",
       " -0.7522527780636751)"
      ]
     },
     "execution_count": 4,
     "metadata": {},
     "output_type": "execute_result"
    }
   ],
   "source": [
    "ewald(a, b, c, tau, spins, 4, 10, 10, parallel=False)"
   ]
  },
  {
   "cell_type": "code",
   "execution_count": 5,
   "metadata": {},
   "outputs": [],
   "source": [
    "spins = np.zeros([3, ns], dtype='float')\n",
    "spins[:,0] = [0,1./2.,1./3.] # Indicates the spin orientation of the (Cs) in the cell/lattice\n",
    "spins[:,1] = [1.0,0,0] # Indicates the spin orientation of the (Cl) in the cell/lattice"
   ]
  },
  {
   "cell_type": "code",
   "execution_count": 6,
   "metadata": {},
   "outputs": [
    {
     "data": {
      "text/plain": [
       "-0.005814931795110084"
      ]
     },
     "execution_count": 6,
     "metadata": {},
     "output_type": "execute_result"
    }
   ],
   "source": [
    "sumDipoles(a, b, c, tau, spins, 10, parallel=True)"
   ]
  },
  {
   "cell_type": "code",
   "execution_count": 7,
   "metadata": {},
   "outputs": [
    {
     "name": "stdout",
     "output_type": "stream",
     "text": [
      "Volume is: 1\n"
     ]
    },
    {
     "data": {
      "text/plain": [
       "(0.00088477662152131,\n",
       " 1.3171267035032046e-40,\n",
       " -2.33963941425223,\n",
       " -0.7522527780636751)"
      ]
     },
     "execution_count": 7,
     "metadata": {},
     "output_type": "execute_result"
    }
   ],
   "source": [
    "ewald(a, b, c, tau, spins, 4, 10, 10, parallel=False)"
   ]
  },
  {
   "cell_type": "code",
   "execution_count": 8,
   "metadata": {},
   "outputs": [],
   "source": [
    "spins = np.zeros([3, ns], dtype='float')\n",
    "spins[:,0] = [1.0,0,0] # Indicates the spin orientation of the (Cs) in the cell/lattice\n",
    "spins[:,1] = [1.0,0,0] # Indicates the spin orientation of the (Cl) in the cell/lattice"
   ]
  },
  {
   "cell_type": "code",
   "execution_count": 9,
   "metadata": {},
   "outputs": [
    {
     "data": {
      "text/plain": [
       "-1.9984014443252818e-14"
      ]
     },
     "execution_count": 9,
     "metadata": {},
     "output_type": "execute_result"
    }
   ],
   "source": [
    "sumDipoles(a, b, c, tau, spins, 10, parallel=True)"
   ]
  },
  {
   "cell_type": "code",
   "execution_count": 10,
   "metadata": {},
   "outputs": [
    {
     "name": "stdout",
     "output_type": "stream",
     "text": [
      "Volume is: 1\n"
     ]
    },
    {
     "data": {
      "text/plain": [
       "(2.6894928352760134e-07,\n",
       " 3.08796445161652e-36,\n",
       " -7.625327900458367,\n",
       " -0.7522527780636751)"
      ]
     },
     "execution_count": 10,
     "metadata": {},
     "output_type": "execute_result"
    }
   ],
   "source": [
    "ewald(a, b, c, tau, spins, 4, 10, 10, parallel=False)"
   ]
  }
 ],
 "metadata": {
  "kernelspec": {
   "display_name": "Python 3",
   "language": "python",
   "name": "python3"
  },
  "language_info": {
   "codemirror_mode": {
    "name": "ipython",
    "version": 3
   },
   "file_extension": ".py",
   "mimetype": "text/x-python",
   "name": "python",
   "nbconvert_exporter": "python",
   "pygments_lexer": "ipython3",
   "version": "3.9.13"
  },
  "orig_nbformat": 4,
  "vscode": {
   "interpreter": {
    "hash": "94b5432cf878da52e11e4e3b5d5691fd71e8a0e0c8df9af64b0e723e0b4185e7"
   }
  }
 },
 "nbformat": 4,
 "nbformat_minor": 2
}
